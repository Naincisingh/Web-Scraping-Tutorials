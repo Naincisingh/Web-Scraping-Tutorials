{
 "cells": [
  {
   "cell_type": "code",
   "execution_count": 1,
   "id": "a9075e45-d5e3-4d7c-bff3-e4b970100a04",
   "metadata": {},
   "outputs": [
    {
     "data": {
      "text/plain": [
       "'QTS.1\\nWhat is web scraping Python?\\nWeb scraping is a term used to describe the use of a \\nprogram or algorithm to extract and process large amounts of data from the web.\\n\\nwhy is it used?\\nWeb scraping (or data scraping) is a technique used to collect content and data from the internet. \\nThis data is usually saved in a local file so that it can be manipulated and analyzed as needed.\\n\\ngive three areas where web scrapping is used to get data?\\nMonitoring e-commerce prices. Finding opportunities for investment. Analyzing social media web data.\\nApplying machine learning techniques.'"
      ]
     },
     "execution_count": 1,
     "metadata": {},
     "output_type": "execute_result"
    }
   ],
   "source": [
    "\"\"\"QTS.1\n",
    "What is web scraping Python?\n",
    "Web scraping is a term used to describe the use of a \n",
    "program or algorithm to extract and process large amounts of data from the web.\n",
    "\n",
    "why is it used?\n",
    "Web scraping (or data scraping) is a technique used to collect content and data from the internet. \n",
    "This data is usually saved in a local file so that it can be manipulated and analyzed as needed.\n",
    "\n",
    "give three areas where web scrapping is used to get data?\n",
    "Monitoring e-commerce prices. Finding opportunities for investment. Analyzing social media web data.\n",
    "Applying machine learning techniques.\"\"\"\n"
   ]
  },
  {
   "cell_type": "code",
   "execution_count": 2,
   "id": "e70f39a0-b1ad-49de-a6a5-e14bcb31668b",
   "metadata": {},
   "outputs": [
    {
     "data": {
      "text/plain": [
       "'QTS.2\\n1.HTML Parsing. HTML parsing involves the use of JavaScript to target a linear or nested HTML page. ...\\n2.DOM Parsing. ...\\n3.Vertical Aggregation. ...\\n4.XPath. ...\\n5.Google Sheets. ...\\n6.Rate Limit User Requests. ...\\n7.Mitigate High-Volume Requesters with CAPTCHAs. ...\\n8.Regularly Modify HTML Markup.'"
      ]
     },
     "execution_count": 2,
     "metadata": {},
     "output_type": "execute_result"
    }
   ],
   "source": [
    "\"\"\"QTS.2\n",
    "1.HTML Parsing. HTML parsing involves the use of JavaScript to target a linear or nested HTML page. ...\n",
    "2.DOM Parsing. ...\n",
    "3.Vertical Aggregation. ...\n",
    "4.XPath. ...\n",
    "5.Google Sheets. ...\n",
    "6.Rate Limit User Requests. ...\n",
    "7.Mitigate High-Volume Requesters with CAPTCHAs. ...\n",
    "8.Regularly Modify HTML Markup.\"\"\""
   ]
  },
  {
   "cell_type": "code",
   "execution_count": 3,
   "id": "d8999ca9-0671-4eb4-8cd3-83ee5fd5fe9f",
   "metadata": {},
   "outputs": [
    {
     "data": {
      "text/plain": [
       "'QTS.3\\nBeautiful Soup is a Python package for parsing HTML and XML documents \\n(including having malformed markup, i.e. non-closed tags, so named after tag soup). \\nIt creates a parse tree for parsed pages that can be used to extract data from HTML,\\nwhich is useful for web scraping.'"
      ]
     },
     "execution_count": 3,
     "metadata": {},
     "output_type": "execute_result"
    }
   ],
   "source": [
    "\"\"\"QTS.3\n",
    "Beautiful Soup is a Python package for parsing HTML and XML documents \n",
    "(including having malformed markup, i.e. non-closed tags, so named after tag soup). \n",
    "It creates a parse tree for parsed pages that can be used to extract data from HTML,\n",
    "which is useful for web scraping.\"\"\""
   ]
  },
  {
   "cell_type": "code",
   "execution_count": 4,
   "id": "018932ea-bcbe-4dfc-85e4-5242f52a1a4d",
   "metadata": {},
   "outputs": [
    {
     "data": {
      "text/plain": [
       "\"QTS.4\\nFlask is a lightweight framework to build websites. We'll use this to parse our\\ncollected data and display it as HTML in a new HTML file.The requests module \\nallows us to send http requests to the website we want to scrape. \""
      ]
     },
     "execution_count": 4,
     "metadata": {},
     "output_type": "execute_result"
    }
   ],
   "source": [
    "\"\"\"QTS.4\n",
    "Flask is a lightweight framework to build websites. We'll use this to parse our\n",
    "collected data and display it as HTML in a new HTML file.The requests module \n",
    "allows us to send http requests to the website we want to scrape. \"\"\""
   ]
  },
  {
   "cell_type": "code",
   "execution_count": 5,
   "id": "dc14f691-3dc8-4868-818e-0c350d3703e7",
   "metadata": {},
   "outputs": [
    {
     "data": {
      "text/plain": [
       "'QTS.5\\n1.AWS Elastic Beanstalk service is used and why is used-\\nElastic Beanstalk is a service for deploying \\nand scaling web applications and services. Upload your code and Elastic \\nBeanstalk automatically handles the deployment—from capacity provisioning,\\nload balancing, and auto scaling to application health monitoring.'"
      ]
     },
     "execution_count": 5,
     "metadata": {},
     "output_type": "execute_result"
    }
   ],
   "source": [
    "\"\"\"QTS.5\n",
    "1.AWS Elastic Beanstalk service is used and why is used-\n",
    "Elastic Beanstalk is a service for deploying \n",
    "and scaling web applications and services. Upload your code and Elastic \n",
    "Beanstalk automatically handles the deployment—from capacity provisioning,\n",
    "load balancing, and auto scaling to application health monitoring.\"\"\""
   ]
  },
  {
   "cell_type": "code",
   "execution_count": null,
   "id": "94017da2-7e3e-4005-830b-7acbeeadc0a9",
   "metadata": {},
   "outputs": [],
   "source": []
  }
 ],
 "metadata": {
  "kernelspec": {
   "display_name": "Python 3 (ipykernel)",
   "language": "python",
   "name": "python3"
  },
  "language_info": {
   "codemirror_mode": {
    "name": "ipython",
    "version": 3
   },
   "file_extension": ".py",
   "mimetype": "text/x-python",
   "name": "python",
   "nbconvert_exporter": "python",
   "pygments_lexer": "ipython3",
   "version": "3.10.8"
  }
 },
 "nbformat": 4,
 "nbformat_minor": 5
}
